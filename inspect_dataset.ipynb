{
 "cells": [
  {
   "cell_type": "code",
   "execution_count": 45,
   "metadata": {},
   "outputs": [],
   "source": [
    "from datasets import load_dataset, Value, concatenate_datasets, ClassLabel\n",
    "import random\n",
    "import pickle\n",
    "\n",
    "d = load_dataset(\"MU-NLPC/Calc-ape210k\", \"default\", split=\"test\")"
   ]
  },
  {
   "cell_type": "code",
   "execution_count": 47,
   "metadata": {},
   "outputs": [
    {
     "name": "stderr",
     "output_type": "stream",
     "text": [
      "Map: 100%|██████████| 1785/1785 [00:00<00:00, 57964.67 examples/s]\n"
     ]
    }
   ],
   "source": [
    "out_col = \"result_float\"\n",
    "\n",
    "# float to string rounding 4 decimal places\n",
    "def batch_format(batch):\n",
    "    batch[out_col] = [f\"{x:.4f}\" for x in batch[out_col]]\n",
    "    return batch\n",
    "d = d.map(\n",
    "               batch_format, batched=True\n",
    "            )"
   ]
  },
  {
   "cell_type": "code",
   "execution_count": 48,
   "metadata": {},
   "outputs": [
    {
     "data": {
      "text/plain": [
       "{'id': 'ape210k__00971711',\n",
       " 'question': \"Wang Yan's family bought a washing machine and a refrigerator, and they spent a total of 6,000 yuan. The price of the refrigerator is 3/5 of that of the washing machine. Ask for the price of the washing machine.\",\n",
       " 'question_chinese': '王艳家买了一台洗衣机和一台电冰箱，一共花了6000元，电冰箱的价钱是洗衣机的(3/5)，求洗衣机的价钱．',\n",
       " 'chain': '<gadget id=\"calculator\">3 / 5</gadget>\\n<output>3/5 = around 0.6</output>\\n\\n<gadget id=\"calculator\">1 + (3/5)</gadget>\\n<output>8/5 = around 1.6</output>\\n\\n<gadget id=\"calculator\">6_000 / (8/5)</gadget>\\n<output>3_750</output>\\n\\n<result>3_750</result>',\n",
       " 'result': '3_750',\n",
       " 'result_float': 3750.0,\n",
       " 'equation': 'x=6000/(1+(3/5))'}"
      ]
     },
     "execution_count": 48,
     "metadata": {},
     "output_type": "execute_result"
    }
   ],
   "source": [
    "d[0]"
   ]
  },
  {
   "cell_type": "code",
   "execution_count": 44,
   "metadata": {},
   "outputs": [
    {
     "name": "stderr",
     "output_type": "stream",
     "text": [
      "Casting the dataset: 100%|██████████| 400/400 [00:00<00:00, 19042.08 examples/s]\n",
      "Map: 100%|██████████| 400/400 [00:00<00:00, 22205.01 examples/s]\n"
     ]
    },
    {
     "data": {
      "text/plain": [
       "{'premise': 'My body cast a shadow over the grass.',\n",
       " 'choice1': 'The sun was rising.',\n",
       " 'choice2': 'The grass was cut.',\n",
       " 'question': 'cause',\n",
       " 'idx': 0,\n",
       " 'label': 'choice1'}"
      ]
     },
     "execution_count": 44,
     "metadata": {},
     "output_type": "execute_result"
    }
   ],
   "source": [
    "out_col = \"label\"\n",
    "int2str = d.features[out_col].int2str\n",
    "# change to int dtype\n",
    "d = d.cast_column(out_col, Value('int32'))\n",
    "def map_function(batch):\n",
    "    batch[out_col] = [int2str(i) for i in batch[out_col]]\n",
    "    return batch\n",
    "d = d.map(map_function, batched=True)\n",
    "\n",
    "d[0]"
   ]
  },
  {
   "cell_type": "code",
   "execution_count": 3,
   "metadata": {},
   "outputs": [
    {
     "name": "stderr",
     "output_type": "stream",
     "text": [
      "Creating parquet from Arrow format: 100%|██████████| 10/10 [00:00<00:00, 864.20ba/s]\n",
      "Uploading the dataset shards: 100%|██████████| 1/1 [00:01<00:00,  1.50s/it]\n",
      "c:\\Users\\jorin\\.conda\\envs\\reft\\Lib\\site-packages\\huggingface_hub\\file_download.py:157: UserWarning: `huggingface_hub` cache-system uses symlinks by default to efficiently store duplicated files but your machine does not support them in C:\\Users\\jorin\\.cache\\huggingface\\hub\\datasets--jeggers--words_length_short. Caching files will still work but in a degraded version that might require more space on your disk. This warning can be disabled by setting the `HF_HUB_DISABLE_SYMLINKS_WARNING` environment variable. For more details, see https://huggingface.co/docs/huggingface_hub/how-to-cache#limitations.\n",
      "To support symlinks on Windows, you either need to activate Developer Mode or to run Python as an administrator. In order to see activate developer mode, see this article: https://docs.microsoft.com/en-us/windows/apps/get-started/enable-your-device-for-development\n",
      "  warnings.warn(message)\n"
     ]
    },
    {
     "data": {
      "text/plain": [
       "CommitInfo(commit_url='https://huggingface.co/datasets/jeggers/words_length_short/commit/e5d2d0acdd02479eb87029b8096688507c0b705b', commit_message='Upload dataset', commit_description='', oid='e5d2d0acdd02479eb87029b8096688507c0b705b', pr_url=None, pr_revision=None, pr_num=None)"
      ]
     },
     "execution_count": 3,
     "metadata": {},
     "output_type": "execute_result"
    }
   ],
   "source": [
    "d.push_to_hub(\"jeggers/words_length_short\")\n"
   ]
  }
 ],
 "metadata": {
  "kernelspec": {
   "display_name": "reft",
   "language": "python",
   "name": "python3"
  },
  "language_info": {
   "codemirror_mode": {
    "name": "ipython",
    "version": 3
   },
   "file_extension": ".py",
   "mimetype": "text/x-python",
   "name": "python",
   "nbconvert_exporter": "python",
   "pygments_lexer": "ipython3",
   "version": "3.11.7"
  }
 },
 "nbformat": 4,
 "nbformat_minor": 2
}
