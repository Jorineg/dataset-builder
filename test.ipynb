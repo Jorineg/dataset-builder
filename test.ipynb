{
 "cells": [
  {
   "cell_type": "code",
   "execution_count": 7,
   "metadata": {},
   "outputs": [],
   "source": [
    "import json\n",
    "import os\n",
    "from dotenv import load_dotenv\n",
    "from openai import OpenAI\n",
    "import string\n",
    "import random\n",
    "\n",
    "from datasets import load_dataset, Dataset, DatasetDict\n",
    "\n",
    "load_dotenv()\n",
    "client = OpenAI()\n",
    "\n",
    "\n",
    "def add_prompt_variations(prompt_template, variation_count, original_fields):\n",
    "    prompt = f\"\"\"\n",
    "    Create {variation_count} variations for prompt template:\n",
    "    ----- Prompt Template -----\n",
    "    '{prompt_template}'\n",
    "    ---------------------------\n",
    "    Make sure to use exaclty the same fields as in the original prompt template.\n",
    "    Keep the intent of the original prompt template, but vary the wording.\n",
    "    Also change the order of the fields if possible.\n",
    "    Output a JSON object with a single key 'prompts' that contains a list of strings.\n",
    "    \"\"\"\n",
    "\n",
    "    response = client.chat.completions.create(\n",
    "        model=\"gpt-4o\",\n",
    "        response_format={\"type\": \"json_object\"},\n",
    "        messages=[\n",
    "            {\"role\": \"system\", \"content\": prompt},\n",
    "        ],\n",
    "    )\n",
    "    prompt_variations = json.loads(response.choices[0].message.content)[\"prompts\"]\n",
    "    # check if the variations are valid i.e. contain same fields as original prompt template\n",
    "    for variation in prompt_variations:\n",
    "        if not all(\n",
    "            [\n",
    "                (\"{\" + field + \"}\") in variation\n",
    "                for _, field, _, _ in original_fields\n",
    "                if field\n",
    "            ]\n",
    "        ):\n",
    "            raise ValueError(\n",
    "                f\"Variation '{variation}' does not contain all fields of the original prompt template '{prompt_template}'.\"\n",
    "            )\n",
    "    return prompt_variations + [prompt_template]"
   ]
  },
  {
   "cell_type": "code",
   "execution_count": 8,
   "metadata": {},
   "outputs": [
    {
     "data": {
      "text/plain": [
       "['Alice has {num_sisters} sisters and one brother. How many sisters does her brother have?',\n",
       " \"With {num_sisters} sisters and one brother, how many sisters does Alice's brother have?\",\n",
       " 'Alice has a single brother and {num_sisters} sisters. How many sisters does her brother have?',\n",
       " 'If Alice has {num_sisters} sisters and a brother, how many sisters does her brother have?',\n",
       " \"Alice's family includes {num_sisters} sisters and a brother. How many sisters does the brother have?\",\n",
       " \"There are {num_sisters} sisters and one brother in Alice's family. How many sisters does her brother have?\",\n",
       " \"Counting {num_sisters} sisters and a brother, how many sisters does Alice's brother count?\",\n",
       " '{num_sisters} sisters and one brother belong to Alice’s family. How many sisters does her brother have?',\n",
       " 'Alice, who has {num_sisters} sisters and one brother, needs to know how many sisters her brother has. What is the answer?',\n",
       " \"Alice's sibling group consists of {num_sisters} sisters and a brother. How many sisters does the brother have?\",\n",
       " \"Alice has one brother and she also has {num_sisters} sisters. How many sisters does Alice's brother have?\"]"
      ]
     },
     "execution_count": 8,
     "metadata": {},
     "output_type": "execute_result"
    }
   ],
   "source": [
    "# create variations for prompt template\n",
    "prompt_template = \"Alice has one brother and she also has {num_sisters} sisters. How many sisters does Alice's brother have?\"\n",
    "\n",
    "formatter = string.Formatter()\n",
    "fields = list(formatter.parse(prompt_template))\n",
    "\n",
    "\n",
    "variations_1brother = add_prompt_variations(prompt_template, 10, fields)\n",
    "variations_1brother"
   ]
  },
  {
   "cell_type": "code",
   "execution_count": 9,
   "metadata": {},
   "outputs": [
    {
     "data": {
      "text/plain": [
       "['Alice has {num_sisters} sisters and {num_brothers} brothers. How many sisters does one brother of Alice have?',\n",
       " 'If Alice has {num_brothers} brothers and {num_sisters} sisters, how many sisters does each of her brothers have?',\n",
       " 'Consider Alice who has {num_sisters} sisters and {num_brothers} brothers. How many sisters does one of her brothers have?',\n",
       " 'Alice has a total of {num_brothers} brothers and {num_sisters} sisters. How many sisters does each brother of Alice have?',\n",
       " \"With {num_brothers} brothers and {num_sisters} sisters in Alice's family, how many sisters does one of her brothers have?\",\n",
       " 'Alice has {num_sisters} sisters along with {num_brothers} brothers. How many sisters does any one of her brothers have?',\n",
       " 'Given that Alice has {num_brothers} brothers and {num_sisters} sisters, compute the number of sisters for one of her brothers.',\n",
       " \"If Alice's family includes {num_sisters} sisters and {num_brothers} brothers, how many sisters does a brother of Alice have?\",\n",
       " 'Imagine Alice has {num_brothers} brothers and {num_sisters} sisters. What is the number of sisters for each brother?',\n",
       " 'Alice has {num_brothers} brothers and {num_sisters} sisters. Determine the number of sisters one of her brothers has.',\n",
       " \"Alice has {num_brothers} brothers and she also has {num_sisters} sisters. How many sisters does one of Alice's brother have?\"]"
      ]
     },
     "execution_count": 9,
     "metadata": {},
     "output_type": "execute_result"
    }
   ],
   "source": [
    "# create variations for prompt template\n",
    "prompt_template = \"Alice has {num_brothers} brothers and she also has {num_sisters} sisters. How many sisters does one of Alice's brother have?\"\n",
    "\n",
    "formatter = string.Formatter()\n",
    "fields = list(formatter.parse(prompt_template))\n",
    "\n",
    "\n",
    "variations_many_brother = add_prompt_variations(prompt_template, 10, fields)\n",
    "variations_many_brother"
   ]
  },
  {
   "cell_type": "code",
   "execution_count": 33,
   "metadata": {},
   "outputs": [],
   "source": [
    "# create list of simple problems\n",
    "# each problem is a dictionary with the following keys: question, answer\n",
    "# sample 100 problems with random numbers from 1 to 5 for each field and random prompt template\n",
    "# if num_sisters or num_brothers is 1, replace \"brothers\" or \"sisters\" with \"brother\" or \"sister\" respectively\n",
    "# solution is number of sisters plus 1\n",
    "simple_problems = []\n",
    "for _ in range(100):\n",
    "    num_sisters = random.randint(1, 6)\n",
    "    prompt_template = random.choice(variations_1brother)\n",
    "    question = prompt_template.format(num_sisters=num_sisters)\n",
    "    if num_sisters == 1:\n",
    "        question = question.replace(\"sisters\", \"sister\")\n",
    "    answer = num_sisters + 1\n",
    "    simple_problems.append({\"question\": question, \"answer\": answer})\n",
    "\n",
    "for _ in range(100):\n",
    "    num_brothers = random.randint(2, 7)\n",
    "    num_sisters = random.randint(1, 6)\n",
    "    prompt_template = random.choice(variations_many_brother)\n",
    "    question = prompt_template.format(num_brothers=num_brothers, num_sisters=num_sisters)\n",
    "    if num_sisters == 1:\n",
    "        question = question.replace(\"sisters\", \"sister\")\n",
    "    answer = num_sisters + 1\n",
    "    simple_problems.append({\"question\": question, \"answer\": answer})\n"
   ]
  },
  {
   "cell_type": "code",
   "execution_count": 16,
   "metadata": {},
   "outputs": [
    {
     "data": {
      "text/plain": [
       "[\"Alice's mother has 1 sister who does not have children. This aunt has {num_aunt_nephews} nephews and nieces, and {num_mom_brothers} brothers. Alice has {num_sisters} sisters. Her father has a brother with {num_uncle_nephews} nephews and nieces, and {num_unclue_sons} sons. How many cousins does Alice’s sister have?\",\n",
       " \"{num_sisters} sisters are part of Alice's family. Alice's mother has a sister with {num_aunt_nephews} nephews and nieces, and also {num_mom_brothers} brothers. Additionally, Alice's father has a brother. This uncle has {num_uncle_nephews} nephews and nieces, and {num_unclue_sons} sons. How many cousins does Alice's sister have?\",\n",
       " \"Alice has {num_sisters} sisters. Her mother's sister has {num_aunt_nephews} nephews and nieces and {num_mom_brothers} brothers, but no children of her own. Alice's father's brother has {num_uncle_nephews} nephews and nieces, and also {num_unclue_sons} sons. Can you calculate how many cousins Alice’s sister has?\",\n",
       " \"With {num_sisters} sisters, Alice's family is quite large. Her mother's sister, who has no children, has {num_aunt_nephews} nephews and nieces, and {num_mom_brothers} brothers. On her father's side, Alice's uncle has {num_uncle_nephews} nephews and nieces and {num_unclue_sons} sons. How many cousins does Alice’s sister have?\",\n",
       " 'Alice’s mother has a sister who does not have children, but she has {num_aunt_nephews} nephews and nieces and {num_mom_brothers} brothers. Alice, who has {num_sisters} sisters, also has a father’s brother with {num_uncle_nephews} nephews and nieces and {num_unclue_sons} sons. How many cousins does Alice’s sister have?',\n",
       " \"{num_sisters} sisters are part of Alice's family. Her mother's sister has no children but has {num_aunt_nephews} nephews and nieces, and {num_mom_brothers} brothers. Additionally, Alice's father's brother has {num_uncle_nephews} nephews and nieces, and {num_unclue_sons} sons. Calculate the number of cousins Alice's sister has.\",\n",
       " \"Alice has {num_sisters} sisters. She also has an aunt on her mother's side with {num_aunt_nephews} nephews and nieces and {num_mom_brothers} brothers, but no children. Her father’s brother has {num_uncle_nephews} nephews and nieces and {num_unclue_sons} sons. How many cousins does Alice’s sister have?\",\n",
       " \"Alice has {num_sisters} sisters. Her father's brother, who has {num_uncle_nephews} nephews and nieces and {num_unclue_sons} sons, brings more family into the mix. On her mother’s side, the sister reports {num_aunt_nephews} nephews and nieces and {num_mom_brothers} brothers. How many cousins does Alice’s sister have?\",\n",
       " \"Having {num_sisters} sisters, Alice's family grows larger with her mother's sister accounting for {num_aunt_nephews} nephews and nieces, as well as {num_mom_brothers} brothers but no children. Her father's brother further extends the family tree with {num_uncle_nephews} nephews and nieces and {num_unclue_sons} sons. How many cousins does Alice’s sister have?\",\n",
       " \"{num_sisters} sisters belong to Alice's family. Her father's brother, who has {num_uncle_nephews} nephews and nieces, and {num_unclue_sons} sons adds to the family count. Alice's mother's sister, though childless, counts {num_aunt_nephews} nephews and nieces, as well as {num_mom_brothers} brothers. How many cousins does Alice’s sister have?\",\n",
       " '\\n \"Alice has {num_sisters} sisters.\\n Her mother has 1 sister who does not have children -\\n she (the sister) has {num_aunt_nephews} nephews and nieces and also {num_mom_brothers} brothers.\\n Alice\\'s father has a brother who has {num_uncle_nephews} nephews and nieces in total, and who has also {num_unclue_sons} sons.\\n How many cousins does Alice\\'s sister have?\\n']"
      ]
     },
     "execution_count": 16,
     "metadata": {},
     "output_type": "execute_result"
    }
   ],
   "source": [
    "# create variations for prompt template\n",
    "prompt_template = \"\"\"\n",
    " \"Alice has {num_sisters} sisters.\n",
    " Her mother has 1 sister who does not have children -\n",
    " she (the sister) has {num_aunt_nephews} nephews and nieces and also {num_mom_brothers} brothers.\n",
    " Alice's father has a brother who has {num_uncle_nephews} nephews and nieces in total, and who has also {num_unclue_sons} sons.\n",
    " How many cousins does Alice's sister have?\n",
    "\"\"\"\n",
    "\n",
    "\n",
    "# answer: num_aunt_nephews - num_sisters - 1 + num_uncle_nephews - num_sisters - 1 + num_uncle_sons\n",
    "# = num_aunt_nephews + num_uncle_nephews + num_uncle_sons - 2*num_sisters - 2\n",
    "\n",
    "\n",
    "formatter = string.Formatter()\n",
    "fields = list(formatter.parse(prompt_template))\n",
    "\n",
    "\n",
    "variations_hard = add_prompt_variations(prompt_template, 10, fields)\n",
    "variations_hard"
   ]
  },
  {
   "cell_type": "code",
   "execution_count": 55,
   "metadata": {},
   "outputs": [
    {
     "data": {
      "text/plain": [
       "\"Alice has {num_sisters} sisters. Her mother has 1 sister who does not have children - she (the sister) has {num_aunt_nephews} nephews and nieces and also {num_mom_brothers} brothers. Alice's father has a brother who has {num_uncle_nephews} nephews and nieces in total, and who has also {num_unclue_sons} sons. How many cousins does Alice's sister have?\""
      ]
     },
     "execution_count": 55,
     "metadata": {},
     "output_type": "execute_result"
    }
   ],
   "source": [
    "index = 10\n",
    "variations_hard[index]"
   ]
  },
  {
   "cell_type": "code",
   "execution_count": 56,
   "metadata": {},
   "outputs": [],
   "source": [
    "variations_hard[index] = \"Alice has {num_sisters} sisters. Her mother has 1 sister who does not have children. This sister has {num_aunt_nephews} nephews and nieces and also {num_mom_brothers} brothers. Alice's father has a brother who has {num_uncle_nephews} nephews and nieces in total, and who has also {num_unclue_sons} sons. How many cousins does Alice's sister have?\""
   ]
  },
  {
   "cell_type": "code",
   "execution_count": 57,
   "metadata": {},
   "outputs": [
    {
     "data": {
      "text/plain": [
       "[\"Alice's mother has 1 sister who does not have children. This aunt has {num_aunt_nephews} nephews and nieces, and {num_mom_brothers} brothers. Alice has {num_sisters} sisters. Her father has a brother with {num_uncle_nephews} nephews and nieces, and {num_unclue_sons} sons. How many cousins does Alice’s sister have?\",\n",
       " \"{num_sisters} sisters - not including Alice - are part of Alice's family. Alice's mother has a sister with {num_aunt_nephews} nephews and nieces, and also {num_mom_brothers} brothers. Additionally, Alice's father has a brother. This uncle has {num_uncle_nephews} nephews and nieces, and {num_unclue_sons} sons. How many cousins does Alice's sister have?\",\n",
       " \"Alice has {num_sisters} sisters. Her mother's sister has {num_aunt_nephews} nephews and nieces and {num_mom_brothers} brothers, but no children of her own. Alice's father's brother has {num_uncle_nephews} nephews and nieces, and also {num_unclue_sons} sons. Can you calculate how many cousins Alice’s sister has?\",\n",
       " \"With Alice and her {num_sisters} sisters, Alice's family is quite large. Her mother's sister, who has no children, has {num_aunt_nephews} nephews and nieces, and {num_mom_brothers} brothers. On her father's side, Alice's uncle has {num_uncle_nephews} nephews and nieces and {num_unclue_sons} sons. How many cousins does Alice’s sister have?\",\n",
       " 'Alice’s mother has a sister who does not have children, but she has {num_aunt_nephews} nephews and nieces and {num_mom_brothers} brothers. Alice, who has {num_sisters} sisters, also has a father’s brother with {num_uncle_nephews} nephews and nieces and {num_unclue_sons} sons. How many cousins does Alice’s sister have?',\n",
       " \"{num_sisters} sisters are part of Alice's family, not including Alice herself. Her mother's sister has no children but has {num_aunt_nephews} nephews and nieces, and {num_mom_brothers} brothers. Additionally, Alice's father's brother has {num_uncle_nephews} nephews and nieces, and {num_unclue_sons} sons. Calculate the number of cousins Alice's sister has.\",\n",
       " \"Alice has {num_sisters} sisters. She also has an aunt on her mother's side with {num_aunt_nephews} nephews and nieces and {num_mom_brothers} brothers, but no children. Her father’s brother has {num_uncle_nephews} nephews and nieces and {num_unclue_sons} sons. How many cousins does Alice’s sister have?\",\n",
       " \"Alice has {num_sisters} sisters. Her father's brother, who has {num_uncle_nephews} nephews and nieces and {num_unclue_sons} sons, brings more family into the mix. On her mother’s side, the sister reports {num_aunt_nephews} nephews and nieces and {num_mom_brothers} brothers. How many cousins does Alice’s sister have?\",\n",
       " \"Having {num_sisters} sisters, Alice's family grows larger with her mother's sister accounting for {num_aunt_nephews} nephews and nieces, as well as {num_mom_brothers} brothers but no children. Her father's brother further extends the family tree with {num_uncle_nephews} nephews and nieces and {num_unclue_sons} sons. How many cousins does Alice’s sister have?\",\n",
       " \"{num_sisters} sisters belong to Alice's family, excluding Alice herself. Her father's brother, who has {num_uncle_nephews} nephews and nieces, and {num_unclue_sons} sons adds to the family count. Alice's mother's sister, though childless, counts {num_aunt_nephews} nephews and nieces, as well as {num_mom_brothers} brothers. How many cousins does Alice’s sister have?\",\n",
       " \"Alice has {num_sisters} sisters. Her mother has 1 sister who does not have children. This sister has {num_aunt_nephews} nephews and nieces and also {num_mom_brothers} brothers. Alice's father has a brother who has {num_uncle_nephews} nephews and nieces in total, and who has also {num_unclue_sons} sons. How many cousins does Alice's sister have?\"]"
      ]
     },
     "execution_count": 57,
     "metadata": {},
     "output_type": "execute_result"
    }
   ],
   "source": [
    "variations_hard"
   ]
  },
  {
   "cell_type": "code",
   "execution_count": 58,
   "metadata": {},
   "outputs": [],
   "source": [
    "# create list of hard problems\n",
    "hard_problems = []\n",
    "for _ in range(100000):\n",
    "    num_sisters = random.randint(2, 7)\n",
    "    \n",
    "    num_aunt_nephews = random.randint(num_sisters + 1, num_sisters + 6)\n",
    "    num_uncle_nephews = random.randint(num_sisters + 1, num_sisters + 6)\n",
    "\n",
    "    num_mom_brothers = random.randint(2, 5)\n",
    "    num_unclue_sons = random.randint(2, 7)\n",
    "    prompt_template = random.choice(variations_hard)\n",
    "    question = prompt_template.format(\n",
    "        num_sisters=num_sisters,\n",
    "        num_aunt_nephews=num_aunt_nephews,\n",
    "        num_mom_brothers=num_mom_brothers,\n",
    "        num_uncle_nephews=num_uncle_nephews,\n",
    "        num_unclue_sons=num_unclue_sons,\n",
    "    )\n",
    "    answer = num_aunt_nephews + num_uncle_nephews + num_unclue_sons - 2 * num_sisters - 2\n",
    "    hard_problems.append({\"question\": question, \"answer\": answer})"
   ]
  },
  {
   "cell_type": "code",
   "execution_count": 59,
   "metadata": {},
   "outputs": [
    {
     "data": {
      "text/plain": [
       "{'question': \"Alice has 4 sisters. Her mother's sister has 9 nephews and nieces and 4 brothers, but no children of her own. Alice's father's brother has 9 nephews and nieces, and also 6 sons. Can you calculate how many cousins Alice’s sister has?\",\n",
       " 'answer': 14}"
      ]
     },
     "execution_count": 59,
     "metadata": {},
     "output_type": "execute_result"
    }
   ],
   "source": [
    "hard_problems[0]"
   ]
  },
  {
   "cell_type": "code",
   "execution_count": 60,
   "metadata": {},
   "outputs": [],
   "source": [
    "# find all unique answers for hard problems\n",
    "unique_answers = set()\n",
    "for problem in hard_problems:\n",
    "    unique_answers.add(problem[\"answer\"])\n",
    "\n",
    "# sample set of size 100 so that every answer has same number of problems\n",
    "sampled_problems = []\n",
    "for answer in unique_answers:\n",
    "    problems = [problem for problem in hard_problems if problem[\"answer\"] == answer]\n",
    "    sampled_problems += random.sample(problems, 200//len(unique_answers))\n",
    "\n",
    "hard_problems = sampled_problems"
   ]
  },
  {
   "cell_type": "code",
   "execution_count": 61,
   "metadata": {},
   "outputs": [
    {
     "name": "stderr",
     "output_type": "stream",
     "text": [
      "Creating parquet from Arrow format: 100%|██████████| 1/1 [00:00<00:00, 1001.03ba/s]\n",
      "Uploading the dataset shards: 100%|██████████| 1/1 [00:00<00:00,  3.49it/s]\n",
      "Creating parquet from Arrow format: 100%|██████████| 1/1 [00:00<?, ?ba/s]\n",
      "Uploading the dataset shards: 100%|██████████| 1/1 [00:01<00:00,  1.04s/it]\n"
     ]
    },
    {
     "data": {
      "text/plain": [
       "CommitInfo(commit_url='https://huggingface.co/datasets/jeggers/AIW/commit/b40e903377662be3d7351a8839b61ce05d712731', commit_message='Upload dataset', commit_description='', oid='b40e903377662be3d7351a8839b61ce05d712731', pr_url=None, pr_revision=None, pr_num=None)"
      ]
     },
     "execution_count": 61,
     "metadata": {},
     "output_type": "execute_result"
    }
   ],
   "source": [
    "# create datasets from simple and hard problems\n",
    "simple_dataset = Dataset.from_dict({\"question\": [problem[\"question\"] for problem in simple_problems], \"answer\": [problem[\"answer\"] for problem in simple_problems]})\n",
    "hard_dataset = Dataset.from_dict({\"question\": [problem[\"question\"] for problem in hard_problems], \"answer\": [problem[\"answer\"] for problem in hard_problems]})\n",
    "\n",
    "# push to hub\n",
    "simple_dataset.push_to_hub(\"jeggers/AIW\", \"easy\")\n",
    "hard_dataset.push_to_hub(\"jeggers/AIW\", \"hard\")"
   ]
  },
  {
   "cell_type": "code",
   "execution_count": 62,
   "metadata": {},
   "outputs": [],
   "source": [
    "cache = _PROMPT_VARIATIONS_CACHE_FILE = \"prompt_variations_cache.json\"\n",
    "# read cache\n",
    "with open(cache, \"r\") as f:\n",
    "    cache_obj = json.load(f)\n",
    "\n",
    "\n",
    "new_cache_obj = {}\n",
    "# update cache\n",
    "# iterate entries in cache\n",
    "for key, value in cache_obj.items():\n",
    "    # remove name from value \n",
    "    name = value.pop(\"name\")\n",
    "    value.update({\"prompt_template\": key})\n",
    "    new_cache_obj[name] = value\n",
    "\n",
    "# write cache\n",
    "with open(\"_\" + cache, \"w\") as f:\n",
    "    json.dump(new_cache_obj, f, indent=2)"
   ]
  }
 ],
 "metadata": {
  "kernelspec": {
   "display_name": "reft",
   "language": "python",
   "name": "python3"
  },
  "language_info": {
   "codemirror_mode": {
    "name": "ipython",
    "version": 3
   },
   "file_extension": ".py",
   "mimetype": "text/x-python",
   "name": "python",
   "nbconvert_exporter": "python",
   "pygments_lexer": "ipython3",
   "version": "3.11.7"
  }
 },
 "nbformat": 4,
 "nbformat_minor": 2
}
